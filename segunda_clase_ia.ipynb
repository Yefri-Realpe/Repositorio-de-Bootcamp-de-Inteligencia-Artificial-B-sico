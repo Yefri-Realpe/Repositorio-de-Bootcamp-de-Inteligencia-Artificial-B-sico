{
  "nbformat": 4,
  "nbformat_minor": 0,
  "metadata": {
    "colab": {
      "provenance": [],
      "authorship_tag": "ABX9TyOUx8ovhQxLiFkx7UL6ZBvb",
      "include_colab_link": true
    },
    "kernelspec": {
      "name": "python3",
      "display_name": "Python 3"
    },
    "language_info": {
      "name": "python"
    }
  },
  "cells": [
    {
      "cell_type": "markdown",
      "metadata": {
        "id": "view-in-github",
        "colab_type": "text"
      },
      "source": [
        "<a href=\"https://colab.research.google.com/github/Yefri-Realpe/Repositorio-de-Bootcamp-de-Inteligencia-Artificial-B-sico/blob/main/segunda_clase_ia.ipynb\" target=\"_parent\"><img src=\"https://colab.research.google.com/assets/colab-badge.svg\" alt=\"Open In Colab\"/></a>"
      ]
    },
    {
      "cell_type": "code",
      "execution_count": null,
      "metadata": {
        "colab": {
          "base_uri": "https://localhost:8080/"
        },
        "id": "w_e82h8_W4DM",
        "outputId": "7c860537-277d-4bb3-ae78-d5460c6c2b41"
      },
      "outputs": [
        {
          "output_type": "execute_result",
          "data": {
            "text/plain": [
              "10"
            ]
          },
          "metadata": {},
          "execution_count": 1
        }
      ],
      "source": [
        "5+5"
      ]
    },
    {
      "cell_type": "code",
      "source": [
        "x=5\n",
        "y=5\n",
        "z=x+y\n",
        "print(z)"
      ],
      "metadata": {
        "colab": {
          "base_uri": "https://localhost:8080/"
        },
        "id": "1DJJrwH2Y-yh",
        "outputId": "0ff20b48-6077-41e8-a82a-a84f4b0b0427"
      },
      "execution_count": null,
      "outputs": [
        {
          "output_type": "stream",
          "name": "stdout",
          "text": [
            "10\n"
          ]
        }
      ]
    },
    {
      "cell_type": "markdown",
      "source": [
        "Inteligencia Artificial:: 🛸: 🐹"
      ],
      "metadata": {
        "id": "oypbvmh2bjFp"
      }
    },
    {
      "cell_type": "markdown",
      "source": [
        "Estamos en la segunda clase de IA"
      ],
      "metadata": {
        "id": "PvrBZh8gayox"
      }
    },
    {
      "cell_type": "code",
      "source": [
        "import math\n",
        "print(\"Ejemplo de calculadora +,-,*,/\")\n",
        "\n",
        "print()\n",
        "\n",
        "print(\"MENU\")\n",
        "print (\"1:suma\")\n",
        "print(\"2:resta\")\n",
        "print(\"3:multiplicion\")\n",
        "print(\"4:division\")\n",
        "print(\"5:potenciacion\")\n",
        "print(\"6:radicacion\")\n",
        "print(\"7:logaritmo en base 10\")\n",
        "print(\"8:seno\")\n",
        "print(\"9:coseno\")\n",
        "print(\"10:tangente\")\n",
        "print()\n",
        "\n",
        "opcion=input(\"ingrese la opcion deseada del menu:\")\n",
        "numero_uno=float(input(\"ingrese el primer numero de la operacion:\"))\n",
        "numero_dos=float(input(\"ingrese el segundo numero de la operacion:\"))\n",
        "if opcion==\"1\":\n",
        "  print(\"voy a sumar los dos numeros que ingresaste:\")\n",
        "  print(numero_uno + numero_dos)\n",
        "if opcion==\"2\":\n",
        "  print(\"voy a restar los dos numeros que ingresaste:\")\n",
        "  print(numero_uno - numero_dos)\n",
        "if opcion==\"3\":\n",
        "  print(\"voy a multiplicar los dos numeros que ingresaste:\")\n",
        "  print(numero_uno * numero_dos)\n",
        "if opcion==\"4\":\n",
        "  print(\"voy a dividir los dos numeros que ingresaste:\")\n",
        "  print(numero_uno / numero_dos)\n",
        "if opcion==\"5\":\n",
        "  print(\"voy a potenciar los dos numeros que ingresaste:\")\n",
        "  print(numero_uno ** numero_dos)\n",
        "if opcion==\"6\":\n",
        "  print(\"voy a sacar la raiz cuadrada de los dos numeros que ingresaste:\")\n",
        "  print(math.sqrt(numero_uno))\n",
        "  print(math.sqrt(numero_dos))\n",
        "if opcion==\"7\":\n",
        "  print(\"voy a calcular el logaritmo en base 10 de los dos numeros que ingresaste:\")\n",
        "  print(math.log10(numero_uno))\n",
        "  print(math.log10(numero_dos))\n",
        "if opcion==\"8\":\n",
        "  print(\"voy a sacar seno de los dos numeros que ingresaste:\")\n",
        "  print(math.sin(numero_uno))\n",
        "  print(math.sin(numero_dos))\n",
        "if opcion==\"9\":\n",
        "  print(\"voy a sacar coseno de los dos numeros que ingresaste:\")\n",
        "  print(math.cos(numero_uno))\n",
        "  print(math.cos(numero_dos))\n",
        "if opcion==\"10\":\n",
        "  print(\"voy a sacar la tangente de los dos numeros que ingresaste:\")\n",
        "  print(math.tan(numero_uno))\n",
        "  print(math.tan(numero_dos))\n",
        "\n",
        "\n",
        "\n",
        "\n",
        "\n"
      ],
      "metadata": {
        "colab": {
          "base_uri": "https://localhost:8080/"
        },
        "id": "A5sxtjmBbrFv",
        "outputId": "d7f6aa98-0ca6-4056-a5d8-2c67ba988be1"
      },
      "execution_count": null,
      "outputs": [
        {
          "output_type": "stream",
          "name": "stdout",
          "text": [
            "Ejemplo de calculadora +,-,*,/\n",
            "\n",
            "MENU\n",
            "1:suma\n",
            "2:resta\n",
            "3:multiplicion\n",
            "4:division\n",
            "5:potenciacion\n",
            "6:radicacion\n",
            "7:logaritmo en base 10\n",
            "8:seno\n",
            "9:coseno\n",
            "10:tangente\n",
            "\n",
            "ingrese la opcion deseada del menu:8\n",
            "ingrese el primer numero de la operacion:0\n",
            "ingrese el segundo numero de la operacion:3\n",
            "voy a sacar seno de los dos numeros que ingresaste:\n",
            "0.0\n",
            "0.1411200080598672\n"
          ]
        }
      ]
    },
    {
      "cell_type": "code",
      "source": [],
      "metadata": {
        "id": "Y2t_ssDU6IHc"
      },
      "execution_count": null,
      "outputs": []
    }
  ]
}
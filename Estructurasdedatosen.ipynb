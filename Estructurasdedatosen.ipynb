{
  "nbformat": 4,
  "nbformat_minor": 0,
  "metadata": {
    "colab": {
      "provenance": [],
      "authorship_tag": "ABX9TyNH8Q8THJbObipM3WlFCQxV",
      "include_colab_link": true
    },
    "kernelspec": {
      "name": "python3",
      "display_name": "Python 3"
    },
    "language_info": {
      "name": "python"
    }
  },
  "cells": [
    {
      "cell_type": "markdown",
      "metadata": {
        "id": "view-in-github",
        "colab_type": "text"
      },
      "source": [
        "<a href=\"https://colab.research.google.com/github/Yefri-Realpe/Repositorio-de-Bootcamp-de-Inteligencia-Artificial-B-sico/blob/main/Estructurasdedatosen.ipynb\" target=\"_parent\"><img src=\"https://colab.research.google.com/assets/colab-badge.svg\" alt=\"Open In Colab\"/></a>"
      ]
    },
    {
      "cell_type": "code",
      "execution_count": null,
      "metadata": {
        "colab": {
          "base_uri": "https://localhost:8080/"
        },
        "id": "qWgyAET1t66D",
        "outputId": "d16e7b58-81d6-48b2-aea6-e3f50a7ac912"
      },
      "outputs": [
        {
          "output_type": "stream",
          "name": "stdout",
          "text": [
            "['a', 'b', 'c', 'd', 'e', 'f', 'g', 'h', 'i', 'j']\n",
            "('elefante', 'oso', 'perro', 'gato', 'loro', 'gallina', 'zorro', 'pinguino')\n",
            "{'cafe', 'rosado', 'amarillo', 'azul', 'morado', 'negro', 'blanco', 'rojo'}\n",
            "{'computador': 'maquina electronica', 'lapicero': 'utensilio para escribir', 'calculadora': 'resultado de problemas'}\n"
          ]
        }
      ],
      "source": [
        "lista_abecedario=[\"a\", \"b\", \"c\", \"d\", \"e\", \"f\", \"g\",\"h\", \"i\", \"j\" ]\n",
        "print(lista_abecedario)\n",
        "\n",
        "tupla_animales= (\"elefante\", \"oso\", \"perro\", \"gato\", \"loro\", \"gallina\", \"zorro\", \"pinguino\")\n",
        "print(tupla_animales)\n",
        "\n",
        "conjunto_colores= {\"amarillo\", \"azul\", \"rojo\", \"morado\",\"cafe\", \"rosado\", \"blanco\", \"negro\"}\n",
        "print(conjunto_colores)\n",
        "\n",
        "diccionario={\"computador\":\"maquina electronica\", \"lapicero\":\"utensilio para escribir\", \"calculadora\":\"resultado de problemas\"}\n",
        "print(diccionario)"
      ]
    },
    {
      "cell_type": "code",
      "source": [],
      "metadata": {
        "id": "824fDUrEUIAd"
      },
      "execution_count": null,
      "outputs": []
    }
  ]
}